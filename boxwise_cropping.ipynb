{
 "cells": [
  {
   "cell_type": "code",
   "execution_count": 4,
   "metadata": {
    "ExecuteTime": {
     "end_time": "2020-12-01T15:49:12.745725Z",
     "start_time": "2020-12-01T15:49:12.739576Z"
    },
    "scrolled": true
   },
   "outputs": [
    {
     "data": {
      "text/plain": [
       "['task_occlusion_data_01-2020_11_16_04_38_33-yolo 1.1',\n",
       " 'task_occlusion_data_02-2020_11_17_06_31_46-yolo 1.1',\n",
       " 'task_occlusion_data_03-2020_11_18_05_41_15-yolo 1.1',\n",
       " 'task_football image training-2020_11_30_12_49_12-yolo 1.1',\n",
       " 'task_project-2020_11_28_08_17_44-yolo 1.1']"
      ]
     },
     "execution_count": 4,
     "metadata": {},
     "output_type": "execute_result"
    }
   ],
   "source": [
    "import os\n",
    "import cv2\n",
    "import glob\n",
    "import pandas as pd\n",
    "import matplotlib.pyplot as plt\n",
    "\n",
    "from tqdm.notebook import tqdm\n",
    "from scipy.spatial.distance import cdist\n",
    "\n",
    "CROP_SIZE      = 412\n",
    "CROP_SIZE_HALF = CROP_SIZE / 2\n",
    "\n",
    "folders = [\"task_occlusion_data_01-2020_11_16_04_38_33-yolo 1.1\",\n",
    "           \"task_occlusion_data_02-2020_11_17_06_31_46-yolo 1.1\",\n",
    "           \"task_occlusion_data_03-2020_11_18_05_41_15-yolo 1.1\",\n",
    "           \"task_football image training-2020_11_30_12_49_12-yolo 1.1\",\n",
    "           \"task_project-2020_11_28_08_17_44-yolo 1.1\"]\n",
    "\n",
    "folders"
   ]
  },
  {
   "cell_type": "code",
   "execution_count": 27,
   "metadata": {
    "ExecuteTime": {
     "end_time": "2020-12-01T16:29:20.194484Z",
     "start_time": "2020-12-01T16:29:20.172486Z"
    }
   },
   "outputs": [],
   "source": [
    "def get_files():\n",
    "    images = sorted(glob.glob(\"*.jpg\"))\n",
    "    texts  = sorted(glob.glob(\"*.txt\"))\n",
    "    \n",
    "    return images, texts\n",
    "\n",
    "def read_files(image_fname, text_fname):\n",
    "    image = cv2.imread(image_fname, cv2.IMREAD_COLOR)\n",
    "    text  = pd.read_csv(text_fname, delimiter=\" \", header=None, names=HEADER)\n",
    "    text  = text.query('label in [0, 1]').reset_index(drop=True)\n",
    "    \n",
    "    return image, text\n",
    "\n",
    "def get_image_shape(image):\n",
    "    width  = image.shape[1]\n",
    "    height = image.shape[0]\n",
    "    \n",
    "    return width, height\n",
    "\n",
    "def convert_yolo_to_pixel_coord(yolo_coord, image_width, image_height):\n",
    "    pixel_coord = pd.DataFrame()\n",
    "    pixel_coord['label'] = yolo_coord['label']\n",
    "    pixel_coord['x']     = yolo_coord['x'] * image_width\n",
    "    pixel_coord['y']     = yolo_coord['y'] * image_height\n",
    "    pixel_coord['w']     = yolo_coord['w'] * image_width\n",
    "    pixel_coord['h']     = yolo_coord['h'] * image_height\n",
    "    pixel_coord = pixel_coord.applymap(int)\n",
    "    \n",
    "    return pixel_coord\n",
    "\n",
    "def get_center_coord(pixel_coord):\n",
    "    return pixel_coord[['x', 'y']]\n",
    "\n",
    "def find_neighbor(center_coord, crop_size):\n",
    "    cross_dist_mat = pd.DataFrame(cdist(center_coord, center_coord))\n",
    "    near_dist_mat  = cross_dist_mat < (crop_size / 2) + 100\n",
    "    \n",
    "    return near_dist_mat\n",
    "\n",
    "def crop_boxwise_image(image, coord, CROP_SIZE):\n",
    "    crop_image_center_x = coord.x\n",
    "    crop_image_center_y = coord.y\n",
    "\n",
    "    crop_image_start_x  = int(crop_image_center_x - CROP_SIZE_HALF)\n",
    "    crop_image_end_x    = int(crop_image_center_x + CROP_SIZE_HALF)\n",
    "    crop_image_start_y  = int(crop_image_center_y - CROP_SIZE_HALF)\n",
    "    crop_image_end_y    = int(crop_image_center_y + CROP_SIZE_HALF)\n",
    "\n",
    "    crop_image = image[crop_image_start_y:crop_image_end_y,\n",
    "                       crop_image_start_x:crop_image_end_x]\n",
    "    \n",
    "    crop_image = pad_crop_image(crop_image, CROP_SIZE)\n",
    "    \n",
    "    return crop_image, crop_image_start_x, crop_image_start_y\n",
    "\n",
    "def pad_crop_image(crop_image, CROP_SIZE):\n",
    "    crop_image_shape = crop_image.shape\n",
    "\n",
    "    if crop_image.shape[0] < (CROP_SIZE):\n",
    "        crop_image = np.pad(crop_image, ((0, CROP_SIZE - crop_image_shape[0]), (0, 0), (0, 0)), 'constant', constant_values=(0))\n",
    "\n",
    "    if crop_image.shape[1] < (CROP_SIZE):\n",
    "        crop_image = np.pad(crop_image, ((0, 0), (0, CROP_SIZE - crop_image_shape[1]), (0, 0)), 'constant', constant_values=(0))\n",
    "    \n",
    "    return crop_image\n",
    "\n",
    "def write_crop_image(RESULTS_PATH, crop_image, train_text, ct):\n",
    "    image_output_fname = \"frame_{:06d}.jpg\".format(ct)\n",
    "    cv2.imwrite(os.path.join(RESULTS_PATH, image_output_fname), crop_image)\n",
    "    train_text.append(\"data/obj_train_data/\" + image_output_fname)\n",
    "    \n",
    "    return train_text\n",
    "\n",
    "def write_yolo_coords(RESULTS_PATH, yolo_coord_results, ct):\n",
    "    yolo_coord_output_fname = \"frame_{:06d}.txt\".format(ct)\n",
    "    yolo_coord_results = pd.DataFrame(yolo_coord_results)\n",
    "    yolo_coord_results.to_csv(os.path.join(RESULTS_PATH, yolo_coord_output_fname), header=False, index=False, sep=' ')\n",
    "    "
   ]
  },
  {
   "cell_type": "code",
   "execution_count": 37,
   "metadata": {
    "ExecuteTime": {
     "end_time": "2020-12-01T16:35:31.884938Z",
     "start_time": "2020-12-01T16:35:21.955316Z"
    }
   },
   "outputs": [
    {
     "name": "stdout",
     "output_type": "stream",
     "text": [
      "folder number: 0 / total folder number: 5\n"
     ]
    },
    {
     "data": {
      "application/vnd.jupyter.widget-view+json": {
       "model_id": "b679702acff34f09b898cc9832d00930",
       "version_major": 2,
       "version_minor": 0
      },
      "text/plain": [
       "HBox(children=(FloatProgress(value=0.0, max=1480.0), HTML(value='')))"
      ]
     },
     "metadata": {},
     "output_type": "display_data"
    },
    {
     "ename": "KeyboardInterrupt",
     "evalue": "",
     "output_type": "error",
     "traceback": [
      "\u001b[0;31m---------------------------------------------------------------------------\u001b[0m",
      "\u001b[0;31mKeyboardInterrupt\u001b[0m                         Traceback (most recent call last)",
      "\u001b[0;32m<ipython-input-37-dbd7ab190fcf>\u001b[0m in \u001b[0;36m<module>\u001b[0;34m\u001b[0m\n\u001b[1;32m     23\u001b[0m         \u001b[0mnear_dist_mat\u001b[0m \u001b[0;34m=\u001b[0m \u001b[0mfind_neighbor\u001b[0m\u001b[0;34m(\u001b[0m\u001b[0mcenter_coord\u001b[0m\u001b[0;34m,\u001b[0m \u001b[0mCROP_SIZE\u001b[0m\u001b[0;34m)\u001b[0m\u001b[0;34m\u001b[0m\u001b[0;34m\u001b[0m\u001b[0m\n\u001b[1;32m     24\u001b[0m \u001b[0;34m\u001b[0m\u001b[0m\n\u001b[0;32m---> 25\u001b[0;31m         \u001b[0;32mfor\u001b[0m \u001b[0mj\u001b[0m\u001b[0;34m,\u001b[0m \u001b[0mcoord\u001b[0m \u001b[0;32min\u001b[0m \u001b[0mpixel_coord\u001b[0m\u001b[0;34m.\u001b[0m\u001b[0miterrows\u001b[0m\u001b[0;34m(\u001b[0m\u001b[0;34m)\u001b[0m\u001b[0;34m:\u001b[0m\u001b[0;34m\u001b[0m\u001b[0;34m\u001b[0m\u001b[0m\n\u001b[0m\u001b[1;32m     26\u001b[0m             \u001b[0mcrop_image\u001b[0m\u001b[0;34m,\u001b[0m \u001b[0mcrop_image_start_x\u001b[0m\u001b[0;34m,\u001b[0m \u001b[0mcrop_image_start_y\u001b[0m \u001b[0;34m=\u001b[0m \u001b[0mcrop_boxwise_image\u001b[0m\u001b[0;34m(\u001b[0m\u001b[0mimage\u001b[0m\u001b[0;34m,\u001b[0m \u001b[0mcoord\u001b[0m\u001b[0;34m,\u001b[0m \u001b[0mCROP_SIZE\u001b[0m\u001b[0;34m)\u001b[0m\u001b[0;34m\u001b[0m\u001b[0;34m\u001b[0m\u001b[0m\n\u001b[1;32m     27\u001b[0m             \u001b[0mneighbor_box_index\u001b[0m \u001b[0;34m=\u001b[0m \u001b[0mnear_dist_mat\u001b[0m\u001b[0;34m[\u001b[0m\u001b[0mnear_dist_mat\u001b[0m\u001b[0;34m.\u001b[0m\u001b[0miloc\u001b[0m\u001b[0;34m[\u001b[0m\u001b[0mj\u001b[0m\u001b[0;34m]\u001b[0m\u001b[0;34m]\u001b[0m\u001b[0;34m.\u001b[0m\u001b[0mindex\u001b[0m\u001b[0;34m.\u001b[0m\u001b[0mto_numpy\u001b[0m\u001b[0;34m(\u001b[0m\u001b[0;34m)\u001b[0m\u001b[0;34m\u001b[0m\u001b[0;34m\u001b[0m\u001b[0m\n",
      "\u001b[0;32m~/opt/anaconda3/lib/python3.7/site-packages/pandas/core/frame.py\u001b[0m in \u001b[0;36miterrows\u001b[0;34m(self)\u001b[0m\n\u001b[1;32m   1011\u001b[0m         \u001b[0mcolumns\u001b[0m \u001b[0;34m=\u001b[0m \u001b[0mself\u001b[0m\u001b[0;34m.\u001b[0m\u001b[0mcolumns\u001b[0m\u001b[0;34m\u001b[0m\u001b[0;34m\u001b[0m\u001b[0m\n\u001b[1;32m   1012\u001b[0m         \u001b[0mklass\u001b[0m \u001b[0;34m=\u001b[0m \u001b[0mself\u001b[0m\u001b[0;34m.\u001b[0m\u001b[0m_constructor_sliced\u001b[0m\u001b[0;34m\u001b[0m\u001b[0;34m\u001b[0m\u001b[0m\n\u001b[0;32m-> 1013\u001b[0;31m         \u001b[0;32mfor\u001b[0m \u001b[0mk\u001b[0m\u001b[0;34m,\u001b[0m \u001b[0mv\u001b[0m \u001b[0;32min\u001b[0m \u001b[0mzip\u001b[0m\u001b[0;34m(\u001b[0m\u001b[0mself\u001b[0m\u001b[0;34m.\u001b[0m\u001b[0mindex\u001b[0m\u001b[0;34m,\u001b[0m \u001b[0mself\u001b[0m\u001b[0;34m.\u001b[0m\u001b[0mvalues\u001b[0m\u001b[0;34m)\u001b[0m\u001b[0;34m:\u001b[0m\u001b[0;34m\u001b[0m\u001b[0;34m\u001b[0m\u001b[0m\n\u001b[0m\u001b[1;32m   1014\u001b[0m             \u001b[0ms\u001b[0m \u001b[0;34m=\u001b[0m \u001b[0mklass\u001b[0m\u001b[0;34m(\u001b[0m\u001b[0mv\u001b[0m\u001b[0;34m,\u001b[0m \u001b[0mindex\u001b[0m\u001b[0;34m=\u001b[0m\u001b[0mcolumns\u001b[0m\u001b[0;34m,\u001b[0m \u001b[0mname\u001b[0m\u001b[0;34m=\u001b[0m\u001b[0mk\u001b[0m\u001b[0;34m)\u001b[0m\u001b[0;34m\u001b[0m\u001b[0;34m\u001b[0m\u001b[0m\n\u001b[1;32m   1015\u001b[0m             \u001b[0;32myield\u001b[0m \u001b[0mk\u001b[0m\u001b[0;34m,\u001b[0m \u001b[0ms\u001b[0m\u001b[0;34m\u001b[0m\u001b[0;34m\u001b[0m\u001b[0m\n",
      "\u001b[0;31mKeyboardInterrupt\u001b[0m: "
     ]
    }
   ],
   "source": [
    "HEADER = [\"label\", \"x\", \"y\", \"w\", \"h\"]\n",
    "ROOT_PATH    = \"/Users/jonghyun/Desktop/training_data\"\n",
    "TASK_PATH    = os.path.join(ROOT_PATH, \"task_merged\")\n",
    "RESULTS_PATH = os.path.join(TASK_PATH, \"obj_train_data\")\n",
    "\n",
    "ct = 0\n",
    "train_text = []\n",
    "for folder_num, folder in enumerate(folders[:1]):\n",
    "    print(f\"folder number: {folder_num + 1} / total folder number: {len(folders)}\")\n",
    "    os.chdir(os.path.join(ROOT_PATH, folder, \"obj_train_data\"))\n",
    "    \n",
    "    images, texts = get_files()\n",
    "    \n",
    "    for i in tqdm(range(len(images))):\n",
    "        image_fname = images[i]\n",
    "        text_fname  = texts[i]\n",
    "\n",
    "        image, yolo_coord = read_files(image_fname, text_fname)\n",
    "        IMAGE_WIDTH, IMAGE_HEIGHT = get_image_shape(image)\n",
    "\n",
    "        pixel_coord   = convert_yolo_to_pixel_coord(yolo_coord, IMAGE_WIDTH, IMAGE_HEIGHT)\n",
    "        center_coord  = get_center_coord(pixel_coord)\n",
    "        near_dist_mat = find_neighbor(center_coord, CROP_SIZE) \n",
    "        \n",
    "        for j, coord in pixel_coord.iterrows():\n",
    "            crop_image, crop_image_start_x, crop_image_start_y = crop_boxwise_image(image, coord, CROP_SIZE)\n",
    "            neighbor_box_index = near_dist_mat[near_dist_mat.iloc[j]].index.to_numpy()\n",
    "\n",
    "            yolo_coord_results = []\n",
    "            for k in neighbor_box_index:\n",
    "                box_label    = pixel_coord.iloc[k].label\n",
    "                box_center_x = round((pixel_coord.iloc[k].x - crop_image_start_x) / CROP_SIZE, 6)\n",
    "                box_center_y = round((pixel_coord.iloc[k].y - crop_image_start_y) / CROP_SIZE, 6)\n",
    "                box_w        = round(pixel_coord.iloc[k].w / CROP_SIZE, 6)\n",
    "                box_h        = round(pixel_coord.iloc[k].h / CROP_SIZE, 6)\n",
    "\n",
    "                if (box_center_x > 0.1 and box_center_x < 0.9) and (box_center_y > 0.1 and box_center_y < 0.9):\n",
    "                    yolo_coord_results.append([box_label, box_center_x, box_center_y, box_w, box_h])\n",
    "            \n",
    "            if yolo_coord_results:\n",
    "                train_text = write_crop_image(RESULTS_PATH, crop_image, train_text, ct)\n",
    "                write_yolo_coords(RESULTS_PATH, yolo_coord_results, ct)\n",
    "                ct += 1\n",
    "            else:\n",
    "                pass\n",
    "                    \n",
    "train_text = pd.DataFrame(train_text)\n",
    "train_text.to_csv(os.path.join(TASK_PATH, 'train.txt'), header=False, index=False)"
   ]
  }
 ],
 "metadata": {
  "kernelspec": {
   "display_name": "Python 3",
   "language": "python",
   "name": "python3"
  },
  "language_info": {
   "codemirror_mode": {
    "name": "ipython",
    "version": 3
   },
   "file_extension": ".py",
   "mimetype": "text/x-python",
   "name": "python",
   "nbconvert_exporter": "python",
   "pygments_lexer": "ipython3",
   "version": "3.7.6"
  },
  "toc": {
   "base_numbering": 1,
   "nav_menu": {},
   "number_sections": true,
   "sideBar": true,
   "skip_h1_title": false,
   "title_cell": "Table of Contents",
   "title_sidebar": "Contents",
   "toc_cell": false,
   "toc_position": {},
   "toc_section_display": true,
   "toc_window_display": false
  },
  "varInspector": {
   "cols": {
    "lenName": 16,
    "lenType": 16,
    "lenVar": 40
   },
   "kernels_config": {
    "python": {
     "delete_cmd_postfix": "",
     "delete_cmd_prefix": "del ",
     "library": "var_list.py",
     "varRefreshCmd": "print(var_dic_list())"
    },
    "r": {
     "delete_cmd_postfix": ") ",
     "delete_cmd_prefix": "rm(",
     "library": "var_list.r",
     "varRefreshCmd": "cat(var_dic_list()) "
    }
   },
   "types_to_exclude": [
    "module",
    "function",
    "builtin_function_or_method",
    "instance",
    "_Feature"
   ],
   "window_display": false
  }
 },
 "nbformat": 4,
 "nbformat_minor": 4
}
